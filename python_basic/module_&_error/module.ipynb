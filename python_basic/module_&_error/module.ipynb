{
 "cells": [
  {
   "cell_type": "code",
   "execution_count": 2,
   "metadata": {},
   "outputs": [
    {
     "name": "stdout",
     "output_type": "stream",
     "text": [
      "time.struct_time(tm_year=2021, tm_mon=9, tm_mday=13, tm_hour=12, tm_min=2, tm_sec=56, tm_wday=0, tm_yday=256, tm_isdst=0)\n"
     ]
    }
   ],
   "source": [
    "## 導入time模塊\n",
    "import time\n",
    "print(time.localtime())"
   ]
  },
  {
   "cell_type": "code",
   "execution_count": 3,
   "metadata": {},
   "outputs": [
    {
     "name": "stdout",
     "output_type": "stream",
     "text": [
      "time.struct_time(tm_year=2021, tm_mon=9, tm_mday=13, tm_hour=12, tm_min=4, tm_sec=26, tm_wday=0, tm_yday=256, tm_isdst=0)\n"
     ]
    }
   ],
   "source": [
    "## 導入time模塊，並使用t來替換time的名稱\n",
    "import time as t\n",
    "print(t.localtime())"
   ]
  },
  {
   "cell_type": "code",
   "execution_count": 6,
   "metadata": {},
   "outputs": [
    {
     "name": "stdout",
     "output_type": "stream",
     "text": [
      "time.struct_time(tm_year=2021, tm_mon=9, tm_mday=13, tm_hour=12, tm_min=8, tm_sec=23, tm_wday=0, tm_yday=256, tm_isdst=0)\n",
      "1631506103.717853\n"
     ]
    }
   ],
   "source": [
    "## 導入time模塊，並只想導入模塊中的某些屬性功能，不用全部都導入 - time、localtime\n",
    "from time import time,localtime\n",
    "print(localtime())\n",
    "print(time())"
   ]
  },
  {
   "cell_type": "code",
   "execution_count": 1,
   "metadata": {},
   "outputs": [
    {
     "name": "stdout",
     "output_type": "stream",
     "text": [
      "time.struct_time(tm_year=2021, tm_mon=9, tm_mday=13, tm_hour=12, tm_min=10, tm_sec=38, tm_wday=0, tm_yday=256, tm_isdst=0)\n",
      "1631506238.8118517\n"
     ]
    }
   ],
   "source": [
    "## 導入time模塊，並導入所有模塊中的屬性功能\n",
    "from time import *\n",
    "print(localtime())\n",
    "print(time())"
   ]
  },
  {
   "cell_type": "code",
   "execution_count": 1,
   "metadata": {},
   "outputs": [
    {
     "name": "stdout",
     "output_type": "stream",
     "text": [
      "14\n",
      "Hello!!\n",
      "Welcome  Jack\n"
     ]
    }
   ],
   "source": [
    "## 導入自己的模塊 - myscript.py\n",
    "import myscript as m\n",
    "## 使用myscript中的add屬性功能\n",
    "print(m.add(6, 8))\n",
    "## 使用myscript中的print_text屬性功能\n",
    "m.print_text('Hello!!')\n",
    "## 用myscript中的Agreeting功能\n",
    "m.greeting('Jack')"
   ]
  },
  {
   "cell_type": "markdown",
   "metadata": {},
   "source": [
    "## 例外處理 - Try Except"
   ]
  },
  {
   "cell_type": "code",
   "execution_count": 2,
   "metadata": {},
   "outputs": [
    {
     "ename": "FileNotFoundError",
     "evalue": "[Errno 2] No such file or directory: 'aaa.txt'",
     "output_type": "error",
     "traceback": [
      "\u001b[1;31m---------------------------------------------------------------------------\u001b[0m",
      "\u001b[1;31mFileNotFoundError\u001b[0m                         Traceback (most recent call last)",
      "\u001b[1;32m<ipython-input-2-0082e98b9cac>\u001b[0m in \u001b[0;36m<module>\u001b[1;34m\u001b[0m\n\u001b[0;32m      1\u001b[0m \u001b[1;31m## 打開一個不存在的檔案\u001b[0m\u001b[1;33m\u001b[0m\u001b[1;33m\u001b[0m\u001b[1;33m\u001b[0m\u001b[0m\n\u001b[1;32m----> 2\u001b[1;33m \u001b[0mfile\u001b[0m \u001b[1;33m=\u001b[0m \u001b[0mopen\u001b[0m\u001b[1;33m(\u001b[0m\u001b[1;34m'aaa.txt'\u001b[0m\u001b[1;33m,\u001b[0m \u001b[1;34m'r'\u001b[0m\u001b[1;33m)\u001b[0m\u001b[1;33m\u001b[0m\u001b[1;33m\u001b[0m\u001b[0m\n\u001b[0m",
      "\u001b[1;31mFileNotFoundError\u001b[0m: [Errno 2] No such file or directory: 'aaa.txt'"
     ]
    }
   ],
   "source": [
    "## 打開一個不存在的檔案\n",
    "file = open('aaa.txt', 'r')"
   ]
  },
  {
   "cell_type": "code",
   "execution_count": 5,
   "metadata": {},
   "outputs": [
    {
     "name": "stdout",
     "output_type": "stream",
     "text": [
      "[Errno 2] No such file or directory: 'aaa.txt'\n"
     ]
    }
   ],
   "source": [
    "## 使用錯誤處理來印出錯誤資訊\n",
    "try:\n",
    "    file = open('aaa.txt', 'r')\n",
    "except Exception as e:\n",
    "    print(e)"
   ]
  },
  {
   "cell_type": "code",
   "execution_count": 6,
   "metadata": {},
   "outputs": [
    {
     "name": "stdout",
     "output_type": "stream",
     "text": [
      "Sorry We cannot find the file you set in your compuiter\n"
     ]
    }
   ],
   "source": [
    "## 使用錯誤處理來印出錯誤資訊\n",
    "try:\n",
    "    file = open('aaa.txt', 'r')\n",
    "except Exception as e:\n",
    "    print('Sorry We cannot find the file you set in your compuiter')"
   ]
  },
  {
   "cell_type": "code",
   "execution_count": 2,
   "metadata": {},
   "outputs": [
    {
     "name": "stdout",
     "output_type": "stream",
     "text": [
      "Sorry We cannot find the file you set in your compuiter\n",
      "Do you want to create a new file: (y/n)y\n",
      "aaa.txt has been created\n"
     ]
    }
   ],
   "source": [
    "## 使用錯誤處理來印出錯誤資訊\n",
    "file_name = 'aaa.txt'\n",
    "try:\n",
    "    file = open(file_name, 'r')\n",
    "except Exception as e:\n",
    "    print('Sorry We cannot find the file you set in your compuiter')\n",
    "    r = input('Do you want to create a new file: (y/n)')\n",
    "    if r == 'y':\n",
    "        file = open(file_name, 'w')\n",
    "        print(file_name +' has been created')\n",
    "    else:\n",
    "        pass\n",
    "    "
   ]
  },
  {
   "cell_type": "code",
   "execution_count": 2,
   "metadata": {},
   "outputs": [
    {
     "name": "stdout",
     "output_type": "stream",
     "text": [
      "Open Successfully\n"
     ]
    }
   ],
   "source": [
    "## 使用錯誤處理來印出錯誤資訊\n",
    "file_name = 'aaa.txt'\n",
    "try:\n",
    "    file = open(file_name, 'r+')\n",
    "except Exception as e:\n",
    "    print('Sorry We cannot find the file you set in your compuiter')\n",
    "    r = input('Do you want to create a new file: (y/n)')\n",
    "    if r == 'y':\n",
    "        file = open(file_name, 'w')\n",
    "        print(file_name +' has been created')\n",
    "    else:\n",
    "        pass\n",
    "else:\n",
    "    file.write('Successful!!')\n",
    "    print('Open Successfully')\n",
    "file.close()"
   ]
  }
 ],
 "metadata": {
  "kernelspec": {
   "display_name": "Python 3",
   "language": "python",
   "name": "python3"
  },
  "language_info": {
   "codemirror_mode": {
    "name": "ipython",
    "version": 3
   },
   "file_extension": ".py",
   "mimetype": "text/x-python",
   "name": "python",
   "nbconvert_exporter": "python",
   "pygments_lexer": "ipython3",
   "version": "3.7.6"
  }
 },
 "nbformat": 4,
 "nbformat_minor": 4
}
