{
 "cells": [
  {
   "cell_type": "markdown",
   "metadata": {},
   "source": [
    "## Python #15\n",
    "https://www.youtube.com/watch?v=hkMQaooXkgs&list=PLXO45tsB95cIRP5gCi8AlYwQ1uFO2aQBw&index=15"
   ]
  },
  {
   "cell_type": "code",
   "execution_count": 3,
   "metadata": {},
   "outputs": [
    {
     "name": "stdout",
     "output_type": "stream",
     "text": [
      "This is my first test.\n",
      "This is next line.\n",
      "This is last line\n"
     ]
    }
   ],
   "source": [
    "## 撰寫內容\n",
    "## \\n空行\n",
    "context = 'This is my first test.\\nThis is next line.\\nThis is last line'\n",
    "print(context)"
   ]
  },
  {
   "cell_type": "markdown",
   "metadata": {},
   "source": [
    "## 補充\n",
    "#### \\t tab鍵\n",
    "#### 轉義字符可以參考: https://blog.csdn.net/XuFangfang5206/article/details/80030300"
   ]
  },
  {
   "cell_type": "code",
   "execution_count": 4,
   "metadata": {},
   "outputs": [
    {
     "name": "stdout",
     "output_type": "stream",
     "text": [
      "This is my first test.\tThis is next line.\tThis is last line\n"
     ]
    }
   ],
   "source": [
    "context1 = 'This is my first test.\\tThis is next line.\\tThis is last line'\n",
    "print(context1)"
   ]
  },
  {
   "cell_type": "code",
   "execution_count": 5,
   "metadata": {},
   "outputs": [],
   "source": [
    "## 打開文件(創建文件)\n",
    "## w: write\n",
    "## r: read\n",
    "file = open('first_file.txt', 'w')\n",
    "## 寫入文件\n",
    "file.write(context)\n",
    "## 關閉文件\n",
    "file.close()"
   ]
  },
  {
   "cell_type": "markdown",
   "metadata": {},
   "source": [
    "## 補充\n",
    "#### 不同模式的開啟文件\n",
    "#### https://www.runoob.com/python/python-func-open.html"
   ]
  },
  {
   "cell_type": "code",
   "execution_count": 6,
   "metadata": {},
   "outputs": [],
   "source": [
    "## r+和w+一樣都是讀寫文件，但是如果檔案不存在r+會報錯，w+會創建文件\n",
    "## 寫進檔案\n",
    "f = open('test.txt', 'w+')\n",
    "f.write('Hello Everyone')\n",
    "## 寫進檔案\n",
    "f = open('test.txt', 'r+')\n",
    "f.write('Hi Everybody\\n')\n",
    "## 累加文件\n",
    "f = open('test.txt', 'a+')\n",
    "f.write('Welcome')\n",
    "f.close()\n",
    "## 結果: 可以看到前面寫進文件的時候，第一次的寫入被第二次覆蓋掉了，第三次才會累加上去"
   ]
  },
  {
   "cell_type": "markdown",
   "metadata": {},
   "source": [
    "## Python #16\n",
    "https://www.youtube.com/watch?v=TBemVnOITjk&list=PLXO45tsB95cIRP5gCi8AlYwQ1uFO2aQBw&index=16"
   ]
  },
  {
   "cell_type": "code",
   "execution_count": 7,
   "metadata": {},
   "outputs": [],
   "source": [
    "## 追加文字\n",
    "append_context = '\\nThis is appended file.'\n",
    "## 追加方式打開文件\n",
    "file = open('first_file.txt', 'a')\n",
    "file.write(append_context)\n",
    "file.close()\n"
   ]
  },
  {
   "cell_type": "markdown",
   "metadata": {},
   "source": [
    "## Python 17\n",
    "https://www.youtube.com/watch?v=pz3I-9MgxGo&list=PLXO45tsB95cIRP5gCi8AlYwQ1uFO2aQBw&index=17"
   ]
  },
  {
   "cell_type": "code",
   "execution_count": 39,
   "metadata": {},
   "outputs": [
    {
     "name": "stdout",
     "output_type": "stream",
     "text": [
      "This is my first test.\n",
      "This is next line.\n",
      "This is last line\n",
      "This is appended file.\n"
     ]
    }
   ],
   "source": [
    "## 讀取文件\n",
    "file = open('first_file.txt', 'r')\n",
    "## 全部讀取\n",
    "content = file.read()\n",
    "print(content)\n",
    "file.close()"
   ]
  },
  {
   "cell_type": "code",
   "execution_count": 40,
   "metadata": {},
   "outputs": [
    {
     "name": "stdout",
     "output_type": "stream",
     "text": [
      "This is my first test.\n",
      "\n"
     ]
    }
   ],
   "source": [
    "file = open('first_file.txt', 'r')\n",
    "## 讀取一行\n",
    "content1 = file.readline()\n",
    "print(content1)\n",
    "file.close()"
   ]
  },
  {
   "cell_type": "code",
   "execution_count": 42,
   "metadata": {},
   "outputs": [
    {
     "name": "stdout",
     "output_type": "stream",
     "text": [
      "['This is my first test.\\n', 'This is next line.\\n', 'This is last line\\n', 'This is appended file.']\n"
     ]
    }
   ],
   "source": [
    "file = open('first_file.txt', 'r')\n",
    "## 一行一行讀取\n",
    "content1 = file.readlines()\n",
    "print(content1)\n",
    "file.close()\n",
    "\n",
    "## 結果: 會用list的型態，將一行一行的內容存成list傳回"
   ]
  },
  {
   "cell_type": "markdown",
   "metadata": {},
   "source": [
    "## 補充: 使用list資料寫進檔案\n",
    "https://shengyu7697.github.io/python-write-text-file/"
   ]
  },
  {
   "cell_type": "code",
   "execution_count": 8,
   "metadata": {},
   "outputs": [],
   "source": [
    "context = ['Welcome\\n', 'Hello\\t', '123456789']\n",
    "f = open('test1.txt', 'w')\n",
    "f.writelines(context)\n",
    "f.close()"
   ]
  },
  {
   "cell_type": "markdown",
   "metadata": {},
   "source": [
    "## 補充: 使用print()的方式寫進檔案"
   ]
  },
  {
   "cell_type": "code",
   "execution_count": 9,
   "metadata": {},
   "outputs": [],
   "source": [
    "f = open('test2.txt', 'w')\n",
    "print('Welcome', file = f)\n",
    "print('Hello', file = f)\n",
    "print('123456789', file = f)\n",
    "f.close()"
   ]
  },
  {
   "cell_type": "markdown",
   "metadata": {},
   "source": [
    "## 補充: 使用open as的方法來讀寫文件"
   ]
  },
  {
   "cell_type": "code",
   "execution_count": 11,
   "metadata": {},
   "outputs": [],
   "source": [
    "with open('test3.txt', 'a') as f:\n",
    "    f.write('Welcome\\n')"
   ]
  }
 ],
 "metadata": {
  "kernelspec": {
   "display_name": "Python 3",
   "language": "python",
   "name": "python3"
  },
  "language_info": {
   "codemirror_mode": {
    "name": "ipython",
    "version": 3
   },
   "file_extension": ".py",
   "mimetype": "text/x-python",
   "name": "python",
   "nbconvert_exporter": "python",
   "pygments_lexer": "ipython3",
   "version": "3.7.6"
  }
 },
 "nbformat": 4,
 "nbformat_minor": 4
}
