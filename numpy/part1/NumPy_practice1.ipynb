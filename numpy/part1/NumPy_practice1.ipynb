{
 "cells": [
  {
   "cell_type": "code",
   "execution_count": 2,
   "metadata": {},
   "outputs": [],
   "source": [
    "## 導入NumPy套件\n",
    "import numpy as np"
   ]
  },
  {
   "cell_type": "code",
   "execution_count": 5,
   "metadata": {},
   "outputs": [
    {
     "data": {
      "text/plain": [
       "array([[2, 4, 6],\n",
       "       [3, 7, 9],\n",
       "       [1, 3, 8]])"
      ]
     },
     "execution_count": 5,
     "metadata": {},
     "output_type": "execute_result"
    }
   ],
   "source": [
    "## 將列表轉化為矩陣\n",
    "array = np.array([[2,4,6],\n",
    "                  [3,7,9],\n",
    "                  [1,3,8]])\n",
    "array"
   ]
  },
  {
   "cell_type": "code",
   "execution_count": 7,
   "metadata": {},
   "outputs": [
    {
     "name": "stdout",
     "output_type": "stream",
     "text": [
      "number of dim:  2\n",
      "array shape:  (3, 3)\n",
      "size:  9\n"
     ]
    }
   ],
   "source": [
    "## 數組維度\n",
    "print('number of dim: ', array.ndim)\n",
    "\n",
    "## 數組的形狀 - 行數核列數\n",
    "print('array shape: ', array.shape)\n",
    "\n",
    "## 數組的大小 - 元素個數\n",
    "print('size: ', array.size)"
   ]
  },
  {
   "cell_type": "code",
   "execution_count": 8,
   "metadata": {},
   "outputs": [
    {
     "name": "stdout",
     "output_type": "stream",
     "text": [
      "[2 6 8]\n"
     ]
    }
   ],
   "source": [
    "## 創建一個數組\n",
    "a = np.array([2,6,8])\n",
    "print(a)"
   ]
  },
  {
   "cell_type": "code",
   "execution_count": 11,
   "metadata": {},
   "outputs": [
    {
     "name": "stdout",
     "output_type": "stream",
     "text": [
      "int32\n",
      "int64\n"
     ]
    }
   ],
   "source": [
    "## 指定創建數組的數據類型\n",
    "a = np.array([2,6,8], dtype = np.int)\n",
    "print(a.dtype)\n",
    "\n",
    "a = np.array([2,6,8], dtype = np.int64)\n",
    "print(a.dtype)"
   ]
  },
  {
   "cell_type": "code",
   "execution_count": 13,
   "metadata": {},
   "outputs": [
    {
     "name": "stdout",
     "output_type": "stream",
     "text": [
      "float64\n",
      "float32\n"
     ]
    }
   ],
   "source": [
    "## 指定創建數組的數據類型\n",
    "a = np.array([2,6,8], dtype = np.float)\n",
    "print(a.dtype)\n",
    "\n",
    "a = np.array([2,6,8], dtype = np.float32)\n",
    "print(a.dtype)"
   ]
  },
  {
   "cell_type": "code",
   "execution_count": 15,
   "metadata": {},
   "outputs": [
    {
     "name": "stdout",
     "output_type": "stream",
     "text": [
      "[[1 2 3]\n",
      " [4 5 6]]\n"
     ]
    }
   ],
   "source": [
    "## 創建數組\n",
    "a = np.array([[1,2,3],[4,5,6]])\n",
    "print(a)"
   ]
  },
  {
   "cell_type": "code",
   "execution_count": 17,
   "metadata": {},
   "outputs": [
    {
     "name": "stdout",
     "output_type": "stream",
     "text": [
      "[[0. 0. 0. 0. 0. 0.]\n",
      " [0. 0. 0. 0. 0. 0.]\n",
      " [0. 0. 0. 0. 0. 0.]\n",
      " [0. 0. 0. 0. 0. 0.]\n",
      " [0. 0. 0. 0. 0. 0.]]\n"
     ]
    }
   ],
   "source": [
    "## 創建值全為0的5行6列數組\n",
    "a = np.zeros((5,6))\n",
    "print(a)"
   ]
  },
  {
   "cell_type": "code",
   "execution_count": 21,
   "metadata": {},
   "outputs": [
    {
     "name": "stdout",
     "output_type": "stream",
     "text": [
      "[[1. 1. 1. 1. 1. 1.]\n",
      " [1. 1. 1. 1. 1. 1.]\n",
      " [1. 1. 1. 1. 1. 1.]\n",
      " [1. 1. 1. 1. 1. 1.]\n",
      " [1. 1. 1. 1. 1. 1.]]\n",
      "float64\n"
     ]
    }
   ],
   "source": [
    "## 創建值全為1的5行6列數組\n",
    "a = np.ones((5,6))\n",
    "print(a)\n",
    "print(a.dtype)"
   ]
  },
  {
   "cell_type": "code",
   "execution_count": 23,
   "metadata": {},
   "outputs": [
    {
     "name": "stdout",
     "output_type": "stream",
     "text": [
      "[[1 1 1 1 1 1]\n",
      " [1 1 1 1 1 1]\n",
      " [1 1 1 1 1 1]\n",
      " [1 1 1 1 1 1]\n",
      " [1 1 1 1 1 1]]\n",
      "int32\n"
     ]
    }
   ],
   "source": [
    "## 創建值全為1的5行6列數組，指定數據類型為int\n",
    "a = np.ones((5,6), dtype = np.int)\n",
    "print(a)\n",
    "print(a.dtype)"
   ]
  },
  {
   "cell_type": "code",
   "execution_count": 34,
   "metadata": {},
   "outputs": [
    {
     "name": "stdout",
     "output_type": "stream",
     "text": [
      "[[6.23042070e-307 4.67296746e-307 1.69121096e-306 9.34609111e-307\n",
      "  1.33511018e-306]\n",
      " [1.33511969e-306 6.23037996e-307 6.23053954e-307 9.34609790e-307\n",
      "  8.45593934e-307]\n",
      " [9.34600963e-307 3.56036603e-307 1.37961641e-306 1.37961302e-306\n",
      "  1.11259940e-306]\n",
      " [1.60219035e-306 1.11261570e-306 1.06811354e-306 8.34448533e-308\n",
      "  1.21347091e+295]]\n",
      "[[ -13901544        605         45          0          0]\n",
      " [         0          0          0          0 1819042080]\n",
      " [1634607739  975332717 1685353250  578057583 1702109740]\n",
      " [ 975336568 1869375010  875983969 1818652252  863265135]]\n"
     ]
    }
   ],
   "source": [
    "## 創建一個全空，但每個元素值都接近於0的數組\n",
    "a = np.empty((4,5))\n",
    "print(a)\n",
    "\n",
    "## 創建一個全空，但每個元素值都接近於0的數組，並指定數據類型為int\n",
    "b = np.empty((4,5), dtype = np.int)\n",
    "print(b)"
   ]
  },
  {
   "cell_type": "code",
   "execution_count": 36,
   "metadata": {},
   "outputs": [
    {
     "name": "stdout",
     "output_type": "stream",
     "text": [
      "[ 0  5 10 15 20 25 30 35 40 45 50 55]\n"
     ]
    }
   ],
   "source": [
    "## 創建一個指定範圍的數組: 0~60，中間隔5的值\n",
    "a = np.arange(0,60,5)\n",
    "print(a)"
   ]
  },
  {
   "cell_type": "code",
   "execution_count": 40,
   "metadata": {},
   "outputs": [
    {
     "name": "stdout",
     "output_type": "stream",
     "text": [
      "[ 1.          3.11111111  5.22222222  7.33333333  9.44444444 11.55555556\n",
      " 13.66666667 15.77777778 17.88888889 20.        ]\n"
     ]
    }
   ],
   "source": [
    "## 創建線段行數據 - 1~20之間切10個點\n",
    "a = np.linspace(1,20,10)\n",
    "print(a)"
   ]
  },
  {
   "cell_type": "code",
   "execution_count": 41,
   "metadata": {},
   "outputs": [
    {
     "name": "stdout",
     "output_type": "stream",
     "text": [
      "[[ 1.          3.11111111]\n",
      " [ 5.22222222  7.33333333]\n",
      " [ 9.44444444 11.55555556]\n",
      " [13.66666667 15.77777778]\n",
      " [17.88888889 20.        ]]\n"
     ]
    }
   ],
   "source": [
    "## 改變數組形狀\n",
    "a = np.linspace(1,20,10).reshape((5,2))\n",
    "print(a)"
   ]
  }
 ],
 "metadata": {
  "kernelspec": {
   "display_name": "Python 3",
   "language": "python",
   "name": "python3"
  },
  "language_info": {
   "codemirror_mode": {
    "name": "ipython",
    "version": 3
   },
   "file_extension": ".py",
   "mimetype": "text/x-python",
   "name": "python",
   "nbconvert_exporter": "python",
   "pygments_lexer": "ipython3",
   "version": "3.7.6"
  }
 },
 "nbformat": 4,
 "nbformat_minor": 4
}
