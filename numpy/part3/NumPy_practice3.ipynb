{
 "cells": [
  {
   "cell_type": "code",
   "execution_count": 2,
   "metadata": {},
   "outputs": [
    {
     "name": "stdout",
     "output_type": "stream",
     "text": [
      "[ 2  3  4  5  6  7  8  9 10 11 12 13 14 15 16 17]\n",
      "8\n"
     ]
    }
   ],
   "source": [
    "import numpy as np\n",
    "## 創建一維數組\n",
    "A = np.arange(2, 18)\n",
    "print(A)\n",
    "## 索引第七個元素\n",
    "print(A[6])"
   ]
  },
  {
   "cell_type": "code",
   "execution_count": 5,
   "metadata": {},
   "outputs": [
    {
     "name": "stdout",
     "output_type": "stream",
     "text": [
      "[[ 2  3  4  5]\n",
      " [ 6  7  8  9]\n",
      " [10 11 12 13]\n",
      " [14 15 16 17]]\n",
      "[14 15 16 17]\n"
     ]
    }
   ],
   "source": [
    "## 創建二維數組\n",
    "A = np.arange(2, 18).reshape((4,4))\n",
    "print(A)\n",
    "## 索引第四行\n",
    "print(A[3])"
   ]
  },
  {
   "cell_type": "code",
   "execution_count": 7,
   "metadata": {},
   "outputs": [
    {
     "name": "stdout",
     "output_type": "stream",
     "text": [
      "8\n"
     ]
    }
   ],
   "source": [
    "## 索引第二行第三列\n",
    "print(A[1][2])"
   ]
  },
  {
   "cell_type": "code",
   "execution_count": 8,
   "metadata": {},
   "outputs": [
    {
     "name": "stdout",
     "output_type": "stream",
     "text": [
      "8\n"
     ]
    }
   ],
   "source": [
    "## 索引第二行第三列\n",
    "print(A[1, 2])"
   ]
  },
  {
   "cell_type": "code",
   "execution_count": 10,
   "metadata": {},
   "outputs": [
    {
     "name": "stdout",
     "output_type": "stream",
     "text": [
      "[7 8]\n"
     ]
    }
   ],
   "source": [
    "## 索引第二行的第二列到第三列\n",
    "print(A[1, 1:3])"
   ]
  },
  {
   "cell_type": "code",
   "execution_count": 11,
   "metadata": {},
   "outputs": [
    {
     "name": "stdout",
     "output_type": "stream",
     "text": [
      "[2 3 4 5]\n",
      "[6 7 8 9]\n",
      "[10 11 12 13]\n",
      "[14 15 16 17]\n"
     ]
    }
   ],
   "source": [
    "## 一行一行列印出來\n",
    "for row in A:\n",
    "    print(row)"
   ]
  },
  {
   "cell_type": "code",
   "execution_count": 13,
   "metadata": {},
   "outputs": [
    {
     "name": "stdout",
     "output_type": "stream",
     "text": [
      "[ 2  6 10 14]\n",
      "[ 3  7 11 15]\n",
      "[ 4  8 12 16]\n",
      "[ 5  9 13 17]\n"
     ]
    }
   ],
   "source": [
    "## 一列一列印出來\n",
    "for column in np.transpose(A):\n",
    "    print(column)"
   ]
  },
  {
   "cell_type": "code",
   "execution_count": 21,
   "metadata": {},
   "outputs": [
    {
     "name": "stdout",
     "output_type": "stream",
     "text": [
      "[[ 2  3  4  5]\n",
      " [ 6  7  8  9]\n",
      " [10 11 12 13]\n",
      " [14 15 16 17]]\n",
      "Flatten:  [ 2  3  4  5  6  7  8  9 10 11 12 13 14 15 16 17]\n",
      "Flatten:  <numpy.flatiter object at 0x0000028C54D32730>\n",
      "2\n",
      "3\n",
      "4\n",
      "5\n",
      "6\n",
      "7\n",
      "8\n",
      "9\n",
      "10\n",
      "11\n",
      "12\n",
      "13\n",
      "14\n",
      "15\n",
      "16\n",
      "17\n"
     ]
    }
   ],
   "source": [
    "import numpy as np\n",
    "\n",
    "A = np.arange(2,18).reshape((4,4))\n",
    "print(A)\n",
    "\n",
    "print('Flatten: ', A.flatten())\n",
    "print('Flatten: ', A.flat)\n",
    "\n",
    "for item in A.flat:\n",
    "    print(item)"
   ]
  },
  {
   "cell_type": "code",
   "execution_count": 22,
   "metadata": {},
   "outputs": [
    {
     "name": "stdout",
     "output_type": "stream",
     "text": [
      "[[1 2 3]\n",
      " [4 5 6]]\n"
     ]
    }
   ],
   "source": [
    "import numpy as np\n",
    "## 創建數組\n",
    "A = np.array([1,2,3])\n",
    "B = np.array([4,5,6])\n",
    "\n",
    "## 垂直合併\n",
    "C = np.vstack((A,B))\n",
    "print(C)"
   ]
  },
  {
   "cell_type": "code",
   "execution_count": 25,
   "metadata": {},
   "outputs": [
    {
     "name": "stdout",
     "output_type": "stream",
     "text": [
      "(3,) (3,) (2, 3)\n"
     ]
    }
   ],
   "source": [
    "## 列印出合併後的形狀\n",
    "print(A.shape, B.shape, C.shape)"
   ]
  },
  {
   "cell_type": "code",
   "execution_count": 26,
   "metadata": {},
   "outputs": [
    {
     "name": "stdout",
     "output_type": "stream",
     "text": [
      "[1 2 3 4 5 6]\n",
      "(3,) (6,)\n"
     ]
    }
   ],
   "source": [
    "## 水平合併\n",
    "D = np.hstack((A,B))\n",
    "print(D)\n",
    "print(A.shape, D.shape)"
   ]
  },
  {
   "cell_type": "code",
   "execution_count": 31,
   "metadata": {},
   "outputs": [
    {
     "name": "stdout",
     "output_type": "stream",
     "text": [
      "[1 2 3]\n",
      "(3,)\n",
      "[[1 2 3]]\n",
      "(1, 3)\n",
      "[[1]\n",
      " [2]\n",
      " [3]]\n",
      "(3, 1)\n"
     ]
    }
   ],
   "source": [
    "print(A)\n",
    "print(A.shape)\n",
    "\n",
    "## 水平轉置\n",
    "print(A[np.newaxis, :])\n",
    "print(A[np.newaxis, :].shape)\n",
    "\n",
    "## 垂直轉置\n",
    "print(A[:, np.newaxis])\n",
    "print(A[:, np.newaxis].shape)"
   ]
  },
  {
   "cell_type": "code",
   "execution_count": 38,
   "metadata": {},
   "outputs": [
    {
     "name": "stdout",
     "output_type": "stream",
     "text": [
      "A:\n",
      "[[1]\n",
      " [2]\n",
      " [3]]\n",
      "B:\n",
      "[[4]\n",
      " [5]\n",
      " [6]]\n",
      "C:\n",
      "[[1]\n",
      " [2]\n",
      " [3]\n",
      " [4]\n",
      " [5]\n",
      " [6]]\n",
      "D:\n",
      "[[1 4]\n",
      " [2 5]\n",
      " [3 6]]\n",
      "(3, 1) (3, 1) (6, 1) (3, 2)\n"
     ]
    }
   ],
   "source": [
    "import numpy as np\n",
    "## 創建數組，並轉成垂直\n",
    "A = np.array([1,2,3])[:, np.newaxis]\n",
    "B = np.array([4,5,6])[:, np.newaxis]\n",
    "\n",
    "## 垂直合併\n",
    "C = np.vstack((A,B))\n",
    "## 水平合併\n",
    "D = np.hstack((A,B))\n",
    "\n",
    "print('A:')\n",
    "print(A)\n",
    "print('B:')\n",
    "print(B)\n",
    "print('C:')\n",
    "print(C)\n",
    "print('D:')\n",
    "print(D)\n",
    "\n",
    "print(A.shape, B.shape, C.shape, D.shape)"
   ]
  },
  {
   "cell_type": "code",
   "execution_count": 47,
   "metadata": {},
   "outputs": [
    {
     "name": "stdout",
     "output_type": "stream",
     "text": [
      "[[1]\n",
      " [2]\n",
      " [3]\n",
      " [4]\n",
      " [5]\n",
      " [6]\n",
      " [1]\n",
      " [2]\n",
      " [3]\n",
      " [4]\n",
      " [5]\n",
      " [6]]\n",
      "[[1 4 1 4]\n",
      " [2 5 2 5]\n",
      " [3 6 3 6]]\n"
     ]
    }
   ],
   "source": [
    "## 多個數組合併\n",
    "\n",
    "## 垂直合併\n",
    "E = np.concatenate((A, B, A, B), axis = 0)\n",
    "print(E)\n",
    "\n",
    "## 水平合併\n",
    "F = np.concatenate((A, B, A, B), axis = 1)\n",
    "print(F)"
   ]
  }
 ],
 "metadata": {
  "kernelspec": {
   "display_name": "Python 3",
   "language": "python",
   "name": "python3"
  },
  "language_info": {
   "codemirror_mode": {
    "name": "ipython",
    "version": 3
   },
   "file_extension": ".py",
   "mimetype": "text/x-python",
   "name": "python",
   "nbconvert_exporter": "python",
   "pygments_lexer": "ipython3",
   "version": "3.7.6"
  }
 },
 "nbformat": 4,
 "nbformat_minor": 4
}
